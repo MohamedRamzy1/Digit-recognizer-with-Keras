{
 "cells": [
  {
   "cell_type": "code",
   "execution_count": 1,
   "metadata": {},
   "outputs": [
    {
     "name": "stderr",
     "output_type": "stream",
     "text": [
      "Using TensorFlow backend.\n"
     ]
    }
   ],
   "source": [
    "import pandas as pd\n",
    "import numpy as np\n",
    "import keras\n",
    "from keras.utils.np_utils import to_categorical\n",
    "from sklearn.model_selection import train_test_split\n"
   ]
  },
  {
   "cell_type": "code",
   "execution_count": 2,
   "metadata": {
    "collapsed": true
   },
   "outputs": [],
   "source": [
    "train = pd.read_csv(\"train.csv\")\n",
    "test = pd.read_csv(\"test.csv\")\n",
    "\n",
    "X_train = (train.iloc[: , 1:].values).astype(np.float)\n",
    "Y_train = (train.iloc[: , 0].values).astype(np.float)\n",
    "X_test = (test.values).astype(np.float)\n",
    "\n",
    "X_train, X_valid, Y_train, Y_valid = train_test_split( X_train, Y_train , test_size= 0.1, random_state=42)\n",
    "\n",
    "X_train = X_train.reshape(X_train.shape[0] , 28 , 28 , 1)\n",
    "X_test = X_test.reshape(X_test.shape[0] , 28 , 28 , 1)\n",
    "X_valid = X_valid.reshape(X_valid.shape[0] , 28 , 28 , 1)\n",
    "Y_train = to_categorical(Y_train)\n",
    "Y_valid = to_categorical(Y_valid)\n",
    "\n",
    "X_train /= 255.0 \n",
    "X_valid /= 255.0\n",
    "X_test /= 255.0\n",
    "\n",
    "train_mean = np.average(X_train)\n",
    "valid_mean = np.average(X_valid)\n",
    "test_mean = np.average(X_test)\n",
    "\n",
    "train_variance = np.var(X_train)\n",
    "valid_variance = np.var(X_valid)\n",
    "test_variance = np.var(X_test)\n",
    "\n",
    "X_train -= train_mean\n",
    "X_valid -= valid_mean\n",
    "X_test -= test_mean\n",
    "\n",
    "X_train /= train_variance\n",
    "X_valid /= valid_variance\n",
    "X_test /= test_variance\n"
   ]
  },
  {
   "cell_type": "code",
   "execution_count": 3,
   "metadata": {
    "collapsed": true
   },
   "outputs": [],
   "source": [
    "def model(input_shape):\n",
    "    \n",
    "    Input = keras.layers.Input(input_shape)\n",
    "    \n",
    "    #Layer #1\n",
    "\n",
    "    X = keras.layers.Conv2D(16, (3,3), strides=(1, 1)  , padding = 'same')(Input)\n",
    "    X = keras.layers.Conv2D(32, (3,3), strides=(1, 1)  , padding = 'same')(X)\n",
    "    X = keras.layers.Dropout(0.15)(X)\n",
    "    X = keras.layers.BatchNormalization(axis = 3)(X)\n",
    "    X = keras.layers.Activation('relu')(X)\n",
    "    X = keras.layers.AveragePooling2D((2, 2) , 1 )(X)\n",
    "\n",
    "    #Layer #2\n",
    "    \n",
    "    X = keras.layers.Conv2D(32, (3,3), strides=(2, 2) , padding = 'same')(X)\n",
    "    X = keras.layers.Dropout(0.15)(X)\n",
    "    X = keras.layers.BatchNormalization(axis = 3)(X)\n",
    "    X = keras.layers.Activation('relu')(X)\n",
    "    X = keras.layers.AveragePooling2D((2 , 2) , 1)(X)\n",
    "    \n",
    "    #Layer #3\n",
    "     \n",
    "    X = keras.layers.Conv2D(64, (5,5) , strides=(2,2) ,  padding = \"same\")(X)\n",
    "    X = keras.layers.Dropout(0.15)(X)\n",
    "    X = keras.layers.BatchNormalization(axis = 3)(X)\n",
    "    X = keras.layers.Activation('relu')(X)\n",
    "    X = keras.layers.AveragePooling2D((2, 2) , 1)(X)\n",
    "    \n",
    "    #Layer #4\n",
    "    \n",
    "    X = keras.layers.Conv2D(128, (5,5) , strides=(2,2) ,  padding = \"same\")(X)\n",
    "    X = keras.layers.Dropout(0.15)(X)\n",
    "    X = keras.layers.BatchNormalization(axis = 3)(X)\n",
    "    X = keras.layers.Activation('relu')(X)\n",
    "    X = keras.layers.AveragePooling2D((2, 2) , 1)(X)\n",
    "        \n",
    "    X = keras.layers.Flatten()(X)\n",
    "    X = keras.layers.Dense(256 , activation='relu')(X)\n",
    "    X = keras.layers.Dropout(0.25)(X)\n",
    "    X = keras.layers.Dense(10 , activation='softmax')(X)\n",
    "\n",
    "    return keras.models.Model(inputs = Input , outputs = X)\n",
    "    \n",
    "    \n",
    "    "
   ]
  },
  {
   "cell_type": "code",
   "execution_count": 4,
   "metadata": {
    "collapsed": true
   },
   "outputs": [],
   "source": [
    "DRmodel = model((28,28,1))"
   ]
  },
  {
   "cell_type": "code",
   "execution_count": 5,
   "metadata": {},
   "outputs": [
    {
     "name": "stdout",
     "output_type": "stream",
     "text": [
      "_________________________________________________________________\n",
      "Layer (type)                 Output Shape              Param #   \n",
      "=================================================================\n",
      "input_1 (InputLayer)         (None, 28, 28, 1)         0         \n",
      "_________________________________________________________________\n",
      "conv2d_1 (Conv2D)            (None, 28, 28, 16)        160       \n",
      "_________________________________________________________________\n",
      "conv2d_2 (Conv2D)            (None, 28, 28, 32)        4640      \n",
      "_________________________________________________________________\n",
      "dropout_1 (Dropout)          (None, 28, 28, 32)        0         \n",
      "_________________________________________________________________\n",
      "batch_normalization_1 (Batch (None, 28, 28, 32)        128       \n",
      "_________________________________________________________________\n",
      "activation_1 (Activation)    (None, 28, 28, 32)        0         \n",
      "_________________________________________________________________\n",
      "average_pooling2d_1 (Average (None, 27, 27, 32)        0         \n",
      "_________________________________________________________________\n",
      "conv2d_3 (Conv2D)            (None, 14, 14, 32)        9248      \n",
      "_________________________________________________________________\n",
      "dropout_2 (Dropout)          (None, 14, 14, 32)        0         \n",
      "_________________________________________________________________\n",
      "batch_normalization_2 (Batch (None, 14, 14, 32)        128       \n",
      "_________________________________________________________________\n",
      "activation_2 (Activation)    (None, 14, 14, 32)        0         \n",
      "_________________________________________________________________\n",
      "average_pooling2d_2 (Average (None, 13, 13, 32)        0         \n",
      "_________________________________________________________________\n",
      "conv2d_4 (Conv2D)            (None, 7, 7, 64)          51264     \n",
      "_________________________________________________________________\n",
      "dropout_3 (Dropout)          (None, 7, 7, 64)          0         \n",
      "_________________________________________________________________\n",
      "batch_normalization_3 (Batch (None, 7, 7, 64)          256       \n",
      "_________________________________________________________________\n",
      "activation_3 (Activation)    (None, 7, 7, 64)          0         \n",
      "_________________________________________________________________\n",
      "average_pooling2d_3 (Average (None, 6, 6, 64)          0         \n",
      "_________________________________________________________________\n",
      "conv2d_5 (Conv2D)            (None, 3, 3, 128)         204928    \n",
      "_________________________________________________________________\n",
      "dropout_4 (Dropout)          (None, 3, 3, 128)         0         \n",
      "_________________________________________________________________\n",
      "batch_normalization_4 (Batch (None, 3, 3, 128)         512       \n",
      "_________________________________________________________________\n",
      "activation_4 (Activation)    (None, 3, 3, 128)         0         \n",
      "_________________________________________________________________\n",
      "average_pooling2d_4 (Average (None, 2, 2, 128)         0         \n",
      "_________________________________________________________________\n",
      "flatten_1 (Flatten)          (None, 512)               0         \n",
      "_________________________________________________________________\n",
      "dense_1 (Dense)              (None, 256)               131328    \n",
      "_________________________________________________________________\n",
      "dropout_5 (Dropout)          (None, 256)               0         \n",
      "_________________________________________________________________\n",
      "dense_2 (Dense)              (None, 10)                2570      \n",
      "=================================================================\n",
      "Total params: 405,162\n",
      "Trainable params: 404,650\n",
      "Non-trainable params: 512\n",
      "_________________________________________________________________\n"
     ]
    }
   ],
   "source": [
    "DRmodel.summary()"
   ]
  },
  {
   "cell_type": "code",
   "execution_count": 6,
   "metadata": {
    "collapsed": true
   },
   "outputs": [],
   "source": [
    "from keras.callbacks import Callback\n",
    "class TrackLoss(Callback):\n",
    "    def __init__(self):\n",
    "        \n",
    "        self.valid_losses = []\n",
    "        self.train_losses = []\n",
    "\n",
    "    def on_epoch_end(self, epoch, logs={}):\n",
    "        self.valid_losses.append(logs.get('val_loss'))\n",
    "        self.train_losses.append(logs.get('loss'))\n"
   ]
  },
  {
   "cell_type": "code",
   "execution_count": 7,
   "metadata": {},
   "outputs": [
    {
     "name": "stdout",
     "output_type": "stream",
     "text": [
      "37800\n"
     ]
    }
   ],
   "source": [
    "from keras.preprocessing.image import ImageDataGenerator\n",
    "datagen = ImageDataGenerator(\n",
    "        featurewise_center=False, \n",
    "        samplewise_center=False, \n",
    "        featurewise_std_normalization=False, \n",
    "        samplewise_std_normalization=False, \n",
    "        zca_whitening=False,  \n",
    "        rotation_range=12,  \n",
    "        zoom_range = 0.1, \n",
    "        width_shift_range=0.1,  \n",
    "        height_shift_range=0.1,  \n",
    "        horizontal_flip=False, \n",
    "        vertical_flip=False)  \n",
    "\n",
    "\n",
    "datagen.fit(X_train)\n",
    "\n",
    "print len(X_train)"
   ]
  },
  {
   "cell_type": "code",
   "execution_count": 21,
   "metadata": {},
   "outputs": [
    {
     "name": "stdout",
     "output_type": "stream",
     "text": [
      "Epoch 1/40\n",
      "590/590 [==============================] - 35s 59ms/step - loss: 0.0180 - acc: 0.9946 - val_loss: 0.0190 - val_acc: 0.9943\n",
      "Epoch 2/40\n",
      "590/590 [==============================] - 42s 71ms/step - loss: 0.0172 - acc: 0.9945 - val_loss: 0.0191 - val_acc: 0.9945\n",
      "Epoch 3/40\n",
      "590/590 [==============================] - 43s 74ms/step - loss: 0.0166 - acc: 0.9949 - val_loss: 0.0186 - val_acc: 0.9945\n",
      "Epoch 4/40\n",
      "590/590 [==============================] - 44s 75ms/step - loss: 0.0187 - acc: 0.9943 - val_loss: 0.0191 - val_acc: 0.9945\n",
      "Epoch 5/40\n",
      "590/590 [==============================] - 44s 75ms/step - loss: 0.0166 - acc: 0.9949 - val_loss: 0.0188 - val_acc: 0.9945\n",
      "Epoch 6/40\n",
      "590/590 [==============================] - 45s 77ms/step - loss: 0.0197 - acc: 0.9944 - val_loss: 0.0187 - val_acc: 0.9945\n",
      "Epoch 7/40\n",
      "590/590 [==============================] - 45s 77ms/step - loss: 0.0161 - acc: 0.9950 - val_loss: 0.0190 - val_acc: 0.9945\n",
      "Epoch 8/40\n",
      "590/590 [==============================] - 45s 77ms/step - loss: 0.0177 - acc: 0.9947 - val_loss: 0.0196 - val_acc: 0.9945\n",
      "Epoch 9/40\n",
      "590/590 [==============================] - 45s 77ms/step - loss: 0.0184 - acc: 0.9942 - val_loss: 0.0197 - val_acc: 0.9943\n",
      "Epoch 10/40\n",
      "590/590 [==============================] - 46s 78ms/step - loss: 0.0168 - acc: 0.9947 - val_loss: 0.0194 - val_acc: 0.9945\n",
      "Epoch 11/40\n",
      "590/590 [==============================] - 46s 78ms/step - loss: 0.0196 - acc: 0.9938 - val_loss: 0.0190 - val_acc: 0.9945\n",
      "Epoch 12/40\n",
      "590/590 [==============================] - 46s 78ms/step - loss: 0.0176 - acc: 0.9948 - val_loss: 0.0191 - val_acc: 0.9945\n",
      "Epoch 13/40\n",
      "590/590 [==============================] - 46s 77ms/step - loss: 0.0194 - acc: 0.9943 - val_loss: 0.0192 - val_acc: 0.9948\n",
      "Epoch 14/40\n",
      "590/590 [==============================] - 47s 79ms/step - loss: 0.0191 - acc: 0.9946 - val_loss: 0.0187 - val_acc: 0.9945\n",
      "Epoch 15/40\n",
      "590/590 [==============================] - 46s 79ms/step - loss: 0.0177 - acc: 0.9949 - val_loss: 0.0192 - val_acc: 0.9943\n",
      "Epoch 16/40\n",
      "590/590 [==============================] - 47s 79ms/step - loss: 0.0181 - acc: 0.9945 - val_loss: 0.0194 - val_acc: 0.9945\n",
      "Epoch 17/40\n",
      "590/590 [==============================] - 47s 79ms/step - loss: 0.0176 - acc: 0.9946 - val_loss: 0.0193 - val_acc: 0.9943\n",
      "Epoch 18/40\n",
      "590/590 [==============================] - 47s 79ms/step - loss: 0.0182 - acc: 0.9942 - val_loss: 0.0191 - val_acc: 0.9945\n",
      "Epoch 19/40\n",
      "590/590 [==============================] - 46s 78ms/step - loss: 0.0175 - acc: 0.9948 - val_loss: 0.0189 - val_acc: 0.9945\n",
      "Epoch 20/40\n",
      "590/590 [==============================] - 44s 75ms/step - loss: 0.0180 - acc: 0.9948 - val_loss: 0.0190 - val_acc: 0.9940\n",
      "Epoch 21/40\n",
      "590/590 [==============================] - 44s 74ms/step - loss: 0.0174 - acc: 0.9947 - val_loss: 0.0190 - val_acc: 0.9943\n",
      "Epoch 22/40\n",
      "590/590 [==============================] - 44s 74ms/step - loss: 0.0163 - acc: 0.9948 - val_loss: 0.0186 - val_acc: 0.9945\n",
      "Epoch 23/40\n",
      "590/590 [==============================] - 44s 74ms/step - loss: 0.0181 - acc: 0.9944 - val_loss: 0.0188 - val_acc: 0.9945\n",
      "Epoch 24/40\n",
      "590/590 [==============================] - 44s 74ms/step - loss: 0.0182 - acc: 0.9945 - val_loss: 0.0190 - val_acc: 0.9943\n",
      "Epoch 25/40\n",
      "590/590 [==============================] - 44s 74ms/step - loss: 0.0179 - acc: 0.9946 - val_loss: 0.0192 - val_acc: 0.9943\n",
      "Epoch 26/40\n",
      "590/590 [==============================] - 46s 78ms/step - loss: 0.0184 - acc: 0.9944 - val_loss: 0.0192 - val_acc: 0.9943\n",
      "Epoch 27/40\n",
      "590/590 [==============================] - 48s 81ms/step - loss: 0.0183 - acc: 0.9943 - val_loss: 0.0197 - val_acc: 0.9943\n",
      "Epoch 28/40\n",
      "590/590 [==============================] - 45s 77ms/step - loss: 0.0189 - acc: 0.9946 - val_loss: 0.0196 - val_acc: 0.9943\n",
      "Epoch 29/40\n",
      "590/590 [==============================] - 45s 76ms/step - loss: 0.0174 - acc: 0.9947 - val_loss: 0.0195 - val_acc: 0.9940\n",
      "Epoch 30/40\n",
      "590/590 [==============================] - 46s 77ms/step - loss: 0.0185 - acc: 0.9944 - val_loss: 0.0198 - val_acc: 0.9940\n",
      "Epoch 31/40\n",
      "590/590 [==============================] - 43s 74ms/step - loss: 0.0170 - acc: 0.9952 - val_loss: 0.0192 - val_acc: 0.9943\n",
      "Epoch 32/40\n",
      "590/590 [==============================] - 44s 74ms/step - loss: 0.0167 - acc: 0.9947 - val_loss: 0.0191 - val_acc: 0.9943\n",
      "Epoch 33/40\n",
      "590/590 [==============================] - 44s 75ms/step - loss: 0.0186 - acc: 0.9946 - val_loss: 0.0190 - val_acc: 0.9945\n",
      "Epoch 34/40\n",
      "590/590 [==============================] - 44s 74ms/step - loss: 0.0201 - acc: 0.9940 - val_loss: 0.0187 - val_acc: 0.9945\n",
      "Epoch 35/40\n",
      "590/590 [==============================] - 45s 76ms/step - loss: 0.0172 - acc: 0.9948 - val_loss: 0.0190 - val_acc: 0.9945\n",
      "Epoch 36/40\n",
      "590/590 [==============================] - 43s 73ms/step - loss: 0.0188 - acc: 0.9946 - val_loss: 0.0189 - val_acc: 0.9943\n",
      "Epoch 37/40\n",
      "590/590 [==============================] - 44s 74ms/step - loss: 0.0187 - acc: 0.9941 - val_loss: 0.0186 - val_acc: 0.9948\n",
      "Epoch 38/40\n",
      "590/590 [==============================] - 44s 74ms/step - loss: 0.0173 - acc: 0.9953 - val_loss: 0.0188 - val_acc: 0.9945\n",
      "Epoch 39/40\n",
      "590/590 [==============================] - 44s 74ms/step - loss: 0.0180 - acc: 0.9947 - val_loss: 0.0189 - val_acc: 0.9948\n",
      "Epoch 40/40\n",
      "590/590 [==============================] - 44s 74ms/step - loss: 0.0172 - acc: 0.9949 - val_loss: 0.0189 - val_acc: 0.9945\n"
     ]
    },
    {
     "data": {
      "text/plain": [
       "<keras.callbacks.History at 0x7fbd2c08fed0>"
      ]
     },
     "execution_count": 21,
     "metadata": {},
     "output_type": "execute_result"
    }
   ],
   "source": [
    "DRmodel.fit_generator(datagen.flow(X_train,Y_train, batch_size=64),\n",
    "                              epochs = 40, validation_data = (X_valid,Y_valid),\n",
    "                              verbose = 1, steps_per_epoch=len(X_train) // 64\n",
    "                              , callbacks=[l,lrd])"
   ]
  },
  {
   "cell_type": "code",
   "execution_count": 15,
   "metadata": {},
   "outputs": [
    {
     "data": {
      "image/png": "[encoded data removed]",
      "text/plain": [
       "<matplotlib.figure.Figure at 0x7fbd7d7974d0>"
      ]
     },
     "metadata": {},
     "output_type": "display_data"
    }
   ],
   "source": [
    "import matplotlib.pyplot as plt\n",
    "plt.xlabel(\n",
    "    'Epochs')\n",
    "plt.ylabel('Loss')\n",
    "\n",
    "plt.plot(range(1,41) , l.train_losses , '-r' , range(1,41) , l.valid_losses , '-b')\n",
    "plt.show()"
   ]
  },
  {
   "cell_type": "code",
   "execution_count": 26,
   "metadata": {
    "collapsed": true
   },
   "outputs": [],
   "source": [
    "predictions = DRmodel.predict(X_test)\n",
    "labels = predictions.argmax(axis = 1)"
   ]
  },
  {
   "cell_type": "code",
   "execution_count": 27,
   "metadata": {
    "collapsed": true
   },
   "outputs": [],
   "source": [
    "outputs = pd.DataFrame()\n",
    "outputs['Label'] = labels"
   ]
  },
  {
   "cell_type": "code",
   "execution_count": 28,
   "metadata": {
    "collapsed": true
   },
   "outputs": [],
   "source": [
    "outputs.to_csv(\"Predictions.csv\")"
   ]
  },
  {
   "cell_type": "code",
   "execution_count": null,
   "metadata": {
    "collapsed": true
   },
   "outputs": [],
   "source": []
  },
  {
   "cell_type": "code",
   "execution_count": null,
   "metadata": {
    "collapsed": true
   },
   "outputs": [],
   "source": []
  }
 ],
 "metadata": {
  "kernelspec": {
   "display_name": "Python 3",
   "language": "python",
   "name": "python3"
  },
  "language_info": {
   "codemirror_mode": {
    "name": "ipython",
    "version": 3
   },
   "file_extension": ".py",
   "mimetype": "text/x-python",
   "name": "python",
   "nbconvert_exporter": "python",
   "pygments_lexer": "ipython3",
   "version": "3.6.4"
  }
 },
 "nbformat": 4,
 "nbformat_minor": 2
}
